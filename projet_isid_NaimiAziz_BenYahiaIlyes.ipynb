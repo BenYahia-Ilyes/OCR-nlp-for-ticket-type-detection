{
  "nbformat": 4,
  "nbformat_minor": 0,
  "metadata": {
    "colab": {
      "name": "projet_isid_ilyes.ipynb",
      "provenance": [],
      "collapsed_sections": [
        "dUDlpybEFtU_",
        "g1iDn8IwVW3S",
        "lw11edn4Vp_F",
        "lAmNfeNJJkin",
        "ydxfDrf4Q5Fx"
      ]
    },
    "kernelspec": {
      "name": "python3",
      "display_name": "Python 3"
    }
  },
  "cells": [
    {
      "cell_type": "markdown",
      "metadata": {
        "id": "dUDlpybEFtU_",
        "colab_type": "text"
      },
      "source": [
        "# Connect to drive and install dataset"
      ]
    },
    {
      "cell_type": "code",
      "metadata": {
        "id": "A_VIS_zwbUV4",
        "colab_type": "code",
        "outputId": "a15225f8-e01e-4606-c5e6-be99be918370",
        "colab": {
          "base_uri": "https://localhost:8080/",
          "height": 120
        }
      },
      "source": [
        "from google.colab import drive\n",
        "drive.mount('/content/gdrive')"
      ],
      "execution_count": 2,
      "outputs": [
        {
          "output_type": "stream",
          "text": [
            "Go to this URL in a browser: https://accounts.google.com/o/oauth2/auth?client_id=947318989803-6bn6qk8qdgf4n4g3pfee6491hc0brc4i.apps.googleusercontent.com&redirect_uri=urn%3aietf%3awg%3aoauth%3a2.0%3aoob&response_type=code&scope=email%20https%3a%2f%2fwww.googleapis.com%2fauth%2fdocs.test%20https%3a%2f%2fwww.googleapis.com%2fauth%2fdrive%20https%3a%2f%2fwww.googleapis.com%2fauth%2fdrive.photos.readonly%20https%3a%2f%2fwww.googleapis.com%2fauth%2fpeopleapi.readonly\n",
            "\n",
            "Enter your authorization code:\n",
            "··········\n",
            "Mounted at /content/gdrive\n"
          ],
          "name": "stdout"
        }
      ]
    },
    {
      "cell_type": "code",
      "metadata": {
        "id": "RpB0Vr_HfcsQ",
        "colab_type": "code",
        "outputId": "b05fb5ce-235e-4835-fefa-af9207d02225",
        "colab": {
          "base_uri": "https://localhost:8080/",
          "height": 33
        }
      },
      "source": [
        "!ls"
      ],
      "execution_count": 0,
      "outputs": [
        {
          "output_type": "stream",
          "text": [
            "gdrive\tsample_data\n"
          ],
          "name": "stdout"
        }
      ]
    },
    {
      "cell_type": "code",
      "metadata": {
        "id": "uKixR7jkfcpH",
        "colab_type": "code",
        "outputId": "113da1e3-be25-402d-9335-0516da30c6d1",
        "colab": {
          "base_uri": "https://localhost:8080/",
          "height": 69
        }
      },
      "source": [
        "import urllib.request\n",
        "print('Beginning file download with urllib2...')\n",
        "url = 'https://storage.googleapis.com/hackaitn2019-datasets/computer-vision-expensya.zip'\n",
        "urllib.request.urlretrieve(url, '/content/gdrive/My Drive/computer-vision-expensya.zip')"
      ],
      "execution_count": 0,
      "outputs": [
        {
          "output_type": "stream",
          "text": [
            "Beginning file download with urllib2...\n"
          ],
          "name": "stdout"
        },
        {
          "output_type": "execute_result",
          "data": {
            "text/plain": [
              "('/content/gdrive/My Drive/computer-vision-expensya.zip',\n",
              " <http.client.HTTPMessage at 0x7ff9348242b0>)"
            ]
          },
          "metadata": {
            "tags": []
          },
          "execution_count": 4
        }
      ]
    },
    {
      "cell_type": "code",
      "metadata": {
        "id": "qDe53BDGgPq9",
        "colab_type": "code",
        "colab": {}
      },
      "source": [
        "import os\n",
        "os.chdir('gdrive/My Drive/projet isid/data')  #change dir\n",
        "  "
      ],
      "execution_count": 0,
      "outputs": []
    },
    {
      "cell_type": "code",
      "metadata": {
        "id": "ZhlHbk7uvjfO",
        "colab_type": "code",
        "outputId": "4772b4f5-9edb-4553-e9e6-dca9a9d92aff",
        "colab": {
          "base_uri": "https://localhost:8080/",
          "height": 33
        }
      },
      "source": [
        "!ls"
      ],
      "execution_count": 0,
      "outputs": [
        {
          "output_type": "stream",
          "text": [
            "csv  images  img_tmp  saved  test  test_out  test.zip  train  train_out\n"
          ],
          "name": "stdout"
        }
      ]
    },
    {
      "cell_type": "code",
      "metadata": {
        "id": "KuSwDGSQF9JO",
        "colab_type": "code",
        "colab": {}
      },
      "source": [
        ""
      ],
      "execution_count": 0,
      "outputs": []
    },
    {
      "cell_type": "markdown",
      "metadata": {
        "id": "lDeir7ZxGAS_",
        "colab_type": "text"
      },
      "source": [
        "# preprocess images and  save in another folder"
      ]
    },
    {
      "cell_type": "code",
      "metadata": {
        "id": "RCKhJf9pFe26",
        "colab_type": "code",
        "colab": {}
      },
      "source": [
        "import cv2\n",
        "from imutils import paths\n",
        "import numpy as np\n",
        "import os\n",
        "try:\n",
        " from PIL import Image\n",
        "except ImportError:\n",
        " import Image"
      ],
      "execution_count": 0,
      "outputs": []
    },
    {
      "cell_type": "code",
      "metadata": {
        "id": "EMxncM3ZH37d",
        "colab_type": "code",
        "colab": {}
      },
      "source": [
        "import imutils"
      ],
      "execution_count": 0,
      "outputs": []
    },
    {
      "cell_type": "code",
      "metadata": {
        "id": "e7GrFGSbH4IA",
        "colab_type": "code",
        "colab": {}
      },
      "source": [
        "os.chdir('test')  #change dir\n"
      ],
      "execution_count": 0,
      "outputs": []
    },
    {
      "cell_type": "code",
      "metadata": {
        "id": "DLueBUV9H1kO",
        "colab_type": "code",
        "colab": {}
      },
      "source": [
        "\n",
        "path=\"traint/train\"\n",
        "dist=\"train_out\"\n",
        "\n",
        "\n",
        "imagePaths = sorted(list(paths.list_images(path)))\n",
        "\n",
        "i=0\n",
        "\n",
        "for img_path in imagePaths:\n",
        "\n",
        "\n",
        "\n",
        "    # resize each image conveniently\n",
        "    im = Image.open(img_path)\n",
        "    length_x, width_y = im.size\n",
        "    factor = min(1, float(1024.0 / length_x))\n",
        "    size = int(factor * length_x), int(factor * width_y)\n",
        "    im_resized = im.resize(size, Image.ANTIALIAS)\n",
        "    im_resized.save(img_path, dpi=(300, 300))\n",
        "\n",
        "\n",
        "    img = cv2.imread(img_path, 0) \n",
        "    \n",
        "    \n",
        "    # Apply dilation and erosion to remove some noise\n",
        "    kernel = np.ones((1, 1), np.uint8)\n",
        "    img = cv2.dilate(img, kernel, iterations=1)\n",
        "    img = cv2.erode(img, kernel, iterations=1)\n",
        "\n",
        "\n",
        "    # Apply blur to smooth out the edges\n",
        "    img = cv2.GaussianBlur(img, (5, 5), 0)\n",
        "    \n",
        "    # use a threshhol so that every pixel is 0 or 255 according to this threshhold\n",
        "    th,img = cv2.threshold(img, 100, 255,cv2.THRESH_BINARY|cv2.THRESH_OTSU)\n",
        "\n",
        "\n",
        "    '''\n",
        "    # find ticket contour\n",
        "    gray = cv2.cvtColor(img, cv2.COLOR_BGR2GRAY)\n",
        "    edged = cv2.Canny(gray, 10, 50)\n",
        "    cnts = cv2.findContours(edged.copy(), cv2.RETR_LIST, cv2.CHAIN_APPROX_SIMPLE)\n",
        "    cnts = cnts[0] if imutils.is_cv2() else cnts[1]\n",
        "    cnts = sorted(cnts, key=cv2.contourArea, reverse=True)[:5]\n",
        "    screenCnt = None\n",
        "    for c in cnts:\n",
        "        peri = cv2.arcLength(c, True)\n",
        "        approx = cv2.approxPolyDP(c, 0.02 * peri, True)\n",
        "        if len(approx) == 4:\n",
        "            screenCnt = approx\n",
        "            break\n",
        "\n",
        "    \n",
        "\n",
        "    img=img[screenCnt[0]:screenCnt[1],screenCnt[2]:screenCnt[3]]\n",
        "    '''\n",
        "\n",
        "    \n",
        "    # save img \n",
        "    name=img_path.split(\"/\")[2].split(\".\")[0]\n",
        "    cv2.imwrite(dist+\"/\"+name+\".png\", img)\n",
        "\n",
        "    i+=1\n",
        "    print(i)"
      ],
      "execution_count": 0,
      "outputs": []
    },
    {
      "cell_type": "markdown",
      "metadata": {
        "id": "JfpcRz3hGhkd",
        "colab_type": "text"
      },
      "source": [
        "# use pytesseract on the preproccessed images to extract their content"
      ]
    },
    {
      "cell_type": "code",
      "metadata": {
        "id": "gmRZwtEHH1qZ",
        "colab_type": "code",
        "colab": {}
      },
      "source": [
        "#!sudo apt install tesseract-ocr\n",
        "#!pip install pytesseract"
      ],
      "execution_count": 0,
      "outputs": []
    },
    {
      "cell_type": "code",
      "metadata": {
        "id": "4iBdnqzxK5TN",
        "colab_type": "code",
        "colab": {}
      },
      "source": [
        "import pytesseract\n"
      ],
      "execution_count": 0,
      "outputs": []
    },
    {
      "cell_type": "code",
      "metadata": {
        "id": "8SBHTOntLUzU",
        "colab_type": "code",
        "colab": {}
      },
      "source": [
        "path=\"train_out\"\n",
        "train_dict={}\n",
        "\n",
        "imagePaths = sorted(list(paths.list_images(path)))\n",
        "\n",
        "i=0\n",
        "for img_path in imagePaths:\n",
        "\n",
        "    extractedInformation = pytesseract.image_to_string(Image.open(img_path))\n",
        "\n",
        "    id=int(img_path.split(\"/\")[1].split(\".\")[0])\n",
        "    train_dict[id]=extractedInformation\n",
        "\n",
        "    i+=1\n",
        "    print(i)\n"
      ],
      "execution_count": 0,
      "outputs": []
    },
    {
      "cell_type": "code",
      "metadata": {
        "id": "r0oLDJsFpO0g",
        "colab_type": "code",
        "colab": {}
      },
      "source": [
        ""
      ],
      "execution_count": 0,
      "outputs": []
    },
    {
      "cell_type": "markdown",
      "metadata": {
        "id": "g1iDn8IwVW3S",
        "colab_type": "text"
      },
      "source": [
        "# add the text extracted from the tickets to the csv file \n"
      ]
    },
    {
      "cell_type": "code",
      "metadata": {
        "id": "cI6oFFkkU8FC",
        "colab_type": "code",
        "colab": {}
      },
      "source": [
        "import pandas as pd"
      ],
      "execution_count": 0,
      "outputs": []
    },
    {
      "cell_type": "code",
      "metadata": {
        "id": "fgw-abDMU8Mz",
        "colab_type": "code",
        "outputId": "94c761d3-6068-468d-896c-015f8ccd2e33",
        "colab": {
          "base_uri": "https://localhost:8080/",
          "height": 33
        }
      },
      "source": [
        "os.chdir('../')  #change dir\n",
        "\n",
        "!ls"
      ],
      "execution_count": 0,
      "outputs": [
        {
          "output_type": "stream",
          "text": [
            "csv  images  img_tmp  saved  test  test_out  test.zip  train  train_out\n"
          ],
          "name": "stdout"
        }
      ]
    },
    {
      "cell_type": "code",
      "metadata": {
        "id": "QcDR5lRgN6Cv",
        "colab_type": "code",
        "outputId": "ec30d4c1-1ed7-4bfd-c843-6f3f398c6abd",
        "colab": {
          "base_uri": "https://localhost:8080/",
          "height": 33
        }
      },
      "source": [
        "df = pd.read_csv ('testset_1.0.csv')\n",
        "df.shape"
      ],
      "execution_count": 0,
      "outputs": [
        {
          "output_type": "execute_result",
          "data": {
            "text/plain": [
              "(1227, 2)"
            ]
          },
          "metadata": {
            "tags": []
          },
          "execution_count": 30
        }
      ]
    },
    {
      "cell_type": "code",
      "metadata": {
        "id": "WBRD2RKjUmfr",
        "colab_type": "code",
        "colab": {}
      },
      "source": [
        "df.columns = ['index','img_id','fuel','parking','restaurant','transport']"
      ],
      "execution_count": 0,
      "outputs": []
    },
    {
      "cell_type": "code",
      "metadata": {
        "id": "eN7TVyMbXyo3",
        "colab_type": "code",
        "outputId": "c5a21b4f-6fc4-4d33-f1fa-20a479c9a329",
        "colab": {
          "base_uri": "https://localhost:8080/",
          "height": 196
        }
      },
      "source": [
        "df.head()"
      ],
      "execution_count": 0,
      "outputs": [
        {
          "output_type": "execute_result",
          "data": {
            "text/html": [
              "<div>\n",
              "<style scoped>\n",
              "    .dataframe tbody tr th:only-of-type {\n",
              "        vertical-align: middle;\n",
              "    }\n",
              "\n",
              "    .dataframe tbody tr th {\n",
              "        vertical-align: top;\n",
              "    }\n",
              "\n",
              "    .dataframe thead th {\n",
              "        text-align: right;\n",
              "    }\n",
              "</style>\n",
              "<table border=\"1\" class=\"dataframe\">\n",
              "  <thead>\n",
              "    <tr style=\"text-align: right;\">\n",
              "      <th></th>\n",
              "      <th>img_id</th>\n",
              "      <th>content</th>\n",
              "    </tr>\n",
              "  </thead>\n",
              "  <tbody>\n",
              "    <tr>\n",
              "      <th>0</th>\n",
              "      <td>0</td>\n",
              "      <td>LINE\\n‘TAX INVOICE\\n\\n3 Upper Pickering Street...</td>\n",
              "    </tr>\n",
              "    <tr>\n",
              "      <th>1</th>\n",
              "      <td>1</td>\n",
              "      <td>The 02\\n\\nUK-SE10 London\\nTax code GB805124369...</td>\n",
              "    </tr>\n",
              "    <tr>\n",
              "      <th>2</th>\n",
              "      <td>10</td>\n",
              "      <td>Bennigan’s\\n\\nTrish - American\\n\\ntavern &amp; Gri...</td>\n",
              "    </tr>\n",
              "    <tr>\n",
              "      <th>3</th>\n",
              "      <td>100</td>\n",
              "      <td>don Underground &lt;@London Underground Lo\\n\\noso...</td>\n",
              "    </tr>\n",
              "    <tr>\n",
              "      <th>4</th>\n",
              "      <td>1000</td>\n",
              "      <td>VENCHT SPA\\n\\nCioccolato dal 1878\\nAEROPORTO F...</td>\n",
              "    </tr>\n",
              "  </tbody>\n",
              "</table>\n",
              "</div>"
            ],
            "text/plain": [
              "   img_id                                            content\n",
              "0       0  LINE\\n‘TAX INVOICE\\n\\n3 Upper Pickering Street...\n",
              "1       1  The 02\\n\\nUK-SE10 London\\nTax code GB805124369...\n",
              "2      10  Bennigan’s\\n\\nTrish - American\\n\\ntavern & Gri...\n",
              "3     100  don Underground <@London Underground Lo\\n\\noso...\n",
              "4    1000  VENCHT SPA\\n\\nCioccolato dal 1878\\nAEROPORTO F..."
            ]
          },
          "metadata": {
            "tags": []
          },
          "execution_count": 58
        }
      ]
    },
    {
      "cell_type": "code",
      "metadata": {
        "id": "VmGF0Y_rUF-t",
        "colab_type": "code",
        "colab": {}
      },
      "source": [
        "df[\"content\"] = df[\"img_id\"].map(lambda row:train_dict[ row ] )\n",
        "\n"
      ],
      "execution_count": 0,
      "outputs": []
    },
    {
      "cell_type": "code",
      "metadata": {
        "id": "eehfBHsz5_8M",
        "colab_type": "code",
        "colab": {}
      },
      "source": [
        "df = df.drop(columns=['index'], axis=1)"
      ],
      "execution_count": 0,
      "outputs": []
    },
    {
      "cell_type": "code",
      "metadata": {
        "id": "9sdn6Zq6XxkW",
        "colab_type": "code",
        "colab": {}
      },
      "source": [
        "df.to_csv('saved/testset_2.0.csv', index=False) \n"
      ],
      "execution_count": 0,
      "outputs": []
    },
    {
      "cell_type": "markdown",
      "metadata": {
        "id": "lw11edn4Vp_F",
        "colab_type": "text"
      },
      "source": [
        "### remove noise for extracted text "
      ]
    },
    {
      "cell_type": "code",
      "metadata": {
        "id": "dMax-KXOUT_H",
        "colab_type": "code",
        "outputId": "7436c725-2001-4d08-ada4-afffdba4a550",
        "colab": {
          "base_uri": "https://localhost:8080/",
          "height": 33
        }
      },
      "source": [
        "df = pd.read_csv ('saved/testset_2.0.csv')\n",
        "df.shape"
      ],
      "execution_count": 0,
      "outputs": [
        {
          "output_type": "execute_result",
          "data": {
            "text/plain": [
              "(1227, 2)"
            ]
          },
          "metadata": {
            "tags": []
          },
          "execution_count": 62
        }
      ]
    },
    {
      "cell_type": "code",
      "metadata": {
        "id": "4Ee_oin_td5H",
        "colab_type": "code",
        "colab": {}
      },
      "source": [
        "id_words={}\n",
        "\n",
        "for i in range(len(df)):\n",
        "  id=df[\"img_id\"][i]\n",
        "  words=df[\"content\"][i]\n",
        "\n",
        "\n",
        "  words=str(words)\n",
        "\n",
        "  l=words.split(\"\\n\")\n",
        "\n",
        "  id_words[id]=l"
      ],
      "execution_count": 0,
      "outputs": []
    },
    {
      "cell_type": "code",
      "metadata": {
        "id": "Sx3_jSS4U8IW",
        "colab_type": "code",
        "colab": {}
      },
      "source": [
        "caracters=[' ',',',\"'\",   'A','B','C','D','E','F','G','H','I','J','K','L','M','N','O','P','Q','R','S','T','U','V','W','X','Y','Z','a','b','c','d','e','f','g','h','i','j','k','l','m','n','o','p','q','r','s','t','u','v','w','x','y','z','é','ç','à','è','1','2','3','4','5','6','7','8','9']\n",
        "\n",
        "for img in id_words: \n",
        "  l=[]\n",
        "\n",
        "  for word in id_words[img]:\n",
        "\n",
        "    remove=False\n",
        "\n",
        "    if (len(word)<3 ):\n",
        "      remove=True\n",
        "\n",
        "    space=True\n",
        "    for c in word:\n",
        "      if c !=\" \":\n",
        "        space=False\n",
        "\n",
        "    for c in word:\n",
        "      if c !=caracters:\n",
        "        remove=True\n",
        "\n",
        "    if space :\n",
        "      remove=True\n",
        "            \n",
        "\n",
        "    if not remove :\n",
        "      l.append(word)\n",
        "\n",
        "  id_words[img]=l\n",
        "\n",
        "\n"
      ],
      "execution_count": 0,
      "outputs": []
    },
    {
      "cell_type": "code",
      "metadata": {
        "id": "GRbFsDr8cfpV",
        "colab_type": "code",
        "colab": {}
      },
      "source": [
        "df[\"content\"] = df[\"img_id\"].map(lambda row:id_words[ row ] )\n",
        "\n"
      ],
      "execution_count": 0,
      "outputs": []
    },
    {
      "cell_type": "code",
      "metadata": {
        "id": "CsPkrHxfupSH",
        "colab_type": "code",
        "outputId": "7c3a5245-599c-4f66-9dcd-d6128104b120",
        "colab": {
          "base_uri": "https://localhost:8080/",
          "height": 196
        }
      },
      "source": [
        "df.head()"
      ],
      "execution_count": 0,
      "outputs": [
        {
          "output_type": "execute_result",
          "data": {
            "text/html": [
              "<div>\n",
              "<style scoped>\n",
              "    .dataframe tbody tr th:only-of-type {\n",
              "        vertical-align: middle;\n",
              "    }\n",
              "\n",
              "    .dataframe tbody tr th {\n",
              "        vertical-align: top;\n",
              "    }\n",
              "\n",
              "    .dataframe thead th {\n",
              "        text-align: right;\n",
              "    }\n",
              "</style>\n",
              "<table border=\"1\" class=\"dataframe\">\n",
              "  <thead>\n",
              "    <tr style=\"text-align: right;\">\n",
              "      <th></th>\n",
              "      <th>img_id</th>\n",
              "      <th>content</th>\n",
              "    </tr>\n",
              "  </thead>\n",
              "  <tbody>\n",
              "    <tr>\n",
              "      <th>0</th>\n",
              "      <td>0</td>\n",
              "      <td>[LINE, ‘TAX INVOICE, 3 Upper Pickering Street,...</td>\n",
              "    </tr>\n",
              "    <tr>\n",
              "      <th>1</th>\n",
              "      <td>1</td>\n",
              "      <td>[The 02, UK-SE10 London, Tax code GB805124369,...</td>\n",
              "    </tr>\n",
              "    <tr>\n",
              "      <th>2</th>\n",
              "      <td>10</td>\n",
              "      <td>[Bennigan’s, Trish - American, tavern &amp; Grill,...</td>\n",
              "    </tr>\n",
              "    <tr>\n",
              "      <th>3</th>\n",
              "      <td>100</td>\n",
              "      <td>[don Underground &lt;@London Underground Lo, osoc...</td>\n",
              "    </tr>\n",
              "    <tr>\n",
              "      <th>4</th>\n",
              "      <td>1000</td>\n",
              "      <td>[VENCHT SPA, Cioccolato dal 1878, AEROPORTO FI...</td>\n",
              "    </tr>\n",
              "  </tbody>\n",
              "</table>\n",
              "</div>"
            ],
            "text/plain": [
              "   img_id                                            content\n",
              "0       0  [LINE, ‘TAX INVOICE, 3 Upper Pickering Street,...\n",
              "1       1  [The 02, UK-SE10 London, Tax code GB805124369,...\n",
              "2      10  [Bennigan’s, Trish - American, tavern & Grill,...\n",
              "3     100  [don Underground <@London Underground Lo, osoc...\n",
              "4    1000  [VENCHT SPA, Cioccolato dal 1878, AEROPORTO FI..."
            ]
          },
          "metadata": {
            "tags": []
          },
          "execution_count": 71
        }
      ]
    },
    {
      "cell_type": "code",
      "metadata": {
        "id": "-qIw-zrwW27g",
        "colab_type": "code",
        "colab": {}
      },
      "source": [
        "'''\n",
        "i=0\n",
        "for img in id_words: \n",
        "\n",
        "  if(id_words[img]==['nan']):\n",
        "    i=i+1\n",
        "\n",
        "\n",
        "\n",
        "k=0\n",
        "for i in range ( len(df)): \n",
        "\n",
        "  if(type(df[\"content\"][i]) == float):\n",
        "    k=k+1\n",
        "'''"
      ],
      "execution_count": 0,
      "outputs": []
    },
    {
      "cell_type": "code",
      "metadata": {
        "id": "9QAwhbFGXewV",
        "colab_type": "code",
        "colab": {}
      },
      "source": [
        "df.to_csv('saved/testset_2.2.csv', index=False) \n"
      ],
      "execution_count": 0,
      "outputs": []
    },
    {
      "cell_type": "code",
      "metadata": {
        "id": "sW_RaHwsYKmq",
        "colab_type": "code",
        "colab": {}
      },
      "source": [
        ""
      ],
      "execution_count": 0,
      "outputs": []
    },
    {
      "cell_type": "markdown",
      "metadata": {
        "id": "lAmNfeNJJkin",
        "colab_type": "text"
      },
      "source": [
        "# add normal encoding and detect language"
      ]
    },
    {
      "cell_type": "code",
      "metadata": {
        "id": "zq_ghpEtH_fN",
        "colab_type": "code",
        "colab": {
          "base_uri": "https://localhost:8080/",
          "height": 33
        },
        "outputId": "e7aec919-b241-4685-d46f-3033a4b84b6f"
      },
      "source": [
        "!ls"
      ],
      "execution_count": 4,
      "outputs": [
        {
          "output_type": "stream",
          "text": [
            "csv  images  img_tmp  saved  test  test_out  test.zip  train  train_out\n"
          ],
          "name": "stdout"
        }
      ]
    },
    {
      "cell_type": "code",
      "metadata": {
        "id": "njENtRyXH_iZ",
        "colab_type": "code",
        "colab": {}
      },
      "source": [
        "dataset= pd.read_csv('saved/dataset_2.2.csv',delimiter=',')"
      ],
      "execution_count": 0,
      "outputs": []
    },
    {
      "cell_type": "code",
      "metadata": {
        "id": "FIpMF55wIsXN",
        "colab_type": "code",
        "colab": {
          "base_uri": "https://localhost:8080/",
          "height": 196
        },
        "outputId": "bc8b139c-6918-4504-afe3-bfab366215f7"
      },
      "source": [
        "dataset.head()"
      ],
      "execution_count": 10,
      "outputs": [
        {
          "output_type": "execute_result",
          "data": {
            "text/html": [
              "<div>\n",
              "<style scoped>\n",
              "    .dataframe tbody tr th:only-of-type {\n",
              "        vertical-align: middle;\n",
              "    }\n",
              "\n",
              "    .dataframe tbody tr th {\n",
              "        vertical-align: top;\n",
              "    }\n",
              "\n",
              "    .dataframe thead th {\n",
              "        text-align: right;\n",
              "    }\n",
              "</style>\n",
              "<table border=\"1\" class=\"dataframe\">\n",
              "  <thead>\n",
              "    <tr style=\"text-align: right;\">\n",
              "      <th></th>\n",
              "      <th>img_id</th>\n",
              "      <th>fuel</th>\n",
              "      <th>parking</th>\n",
              "      <th>restaurant</th>\n",
              "      <th>transport</th>\n",
              "      <th>content</th>\n",
              "    </tr>\n",
              "  </thead>\n",
              "  <tbody>\n",
              "    <tr>\n",
              "      <th>0</th>\n",
              "      <td>4209</td>\n",
              "      <td>0</td>\n",
              "      <td>1</td>\n",
              "      <td>0</td>\n",
              "      <td>0</td>\n",
              "      <td>['1% erria So :', 'ike parcs équipés :', 'fom}...</td>\n",
              "    </tr>\n",
              "    <tr>\n",
              "      <th>1</th>\n",
              "      <td>825</td>\n",
              "      <td>0</td>\n",
              "      <td>0</td>\n",
              "      <td>1</td>\n",
              "      <td>0</td>\n",
              "      <td>['GRS. S.RL', 'STR. CEBROSA 166', '10036 - SET...</td>\n",
              "    </tr>\n",
              "    <tr>\n",
              "      <th>2</th>\n",
              "      <td>2640</td>\n",
              "      <td>0</td>\n",
              "      <td>0</td>\n",
              "      <td>1</td>\n",
              "      <td>0</td>\n",
              "      <td>['EJ ToT) 1', 'HYCHEF RIST COHH.S.p.A.', 'Aero...</td>\n",
              "    </tr>\n",
              "    <tr>\n",
              "      <th>3</th>\n",
              "      <td>845</td>\n",
              "      <td>0</td>\n",
              "      <td>0</td>\n",
              "      <td>0</td>\n",
              "      <td>1</td>\n",
              "      <td>['Trenord Sri', 'Obbligo di Convalida', 'Valid...</td>\n",
              "    </tr>\n",
              "    <tr>\n",
              "      <th>4</th>\n",
              "      <td>915</td>\n",
              "      <td>0</td>\n",
              "      <td>0</td>\n",
              "      <td>0</td>\n",
              "      <td>1</td>\n",
              "      <td>['Ary', 'INTERURBANO CON', 'VALIDITA” ORAFUA S...</td>\n",
              "    </tr>\n",
              "  </tbody>\n",
              "</table>\n",
              "</div>"
            ],
            "text/plain": [
              "   img_id  fuel  ...  transport                                            content\n",
              "0    4209     0  ...          0  ['1% erria So :', 'ike parcs équipés :', 'fom}...\n",
              "1     825     0  ...          0  ['GRS. S.RL', 'STR. CEBROSA 166', '10036 - SET...\n",
              "2    2640     0  ...          0  ['EJ ToT) 1', 'HYCHEF RIST COHH.S.p.A.', 'Aero...\n",
              "3     845     0  ...          1  ['Trenord Sri', 'Obbligo di Convalida', 'Valid...\n",
              "4     915     0  ...          1  ['Ary', 'INTERURBANO CON', 'VALIDITA” ORAFUA S...\n",
              "\n",
              "[5 rows x 6 columns]"
            ]
          },
          "metadata": {
            "tags": []
          },
          "execution_count": 10
        }
      ]
    },
    {
      "cell_type": "code",
      "metadata": {
        "id": "W5BsCYkyIvr2",
        "colab_type": "code",
        "colab": {}
      },
      "source": [
        "# one hot encoding to normal encoding\n",
        "dataset.loc[dataset['fuel']==1,'target']=0\n",
        "dataset.loc[dataset['parking']==1,'target']=1\n",
        "dataset.loc[dataset['restaurant']==1,'target']=2\n",
        "dataset.loc[dataset['transport']==1,'target']=3"
      ],
      "execution_count": 0,
      "outputs": []
    },
    {
      "cell_type": "code",
      "metadata": {
        "id": "wI6uZtj_I2Qo",
        "colab_type": "code",
        "colab": {}
      },
      "source": [
        "dataset = dataset.dropna()"
      ],
      "execution_count": 0,
      "outputs": []
    },
    {
      "cell_type": "code",
      "metadata": {
        "id": "iuk3SY_5Jr4c",
        "colab_type": "code",
        "colab": {
          "base_uri": "https://localhost:8080/",
          "height": 33
        },
        "outputId": "4dd56ad4-56ba-41e3-b63c-adfd11b861fc"
      },
      "source": [
        "dataset.shape\n"
      ],
      "execution_count": 13,
      "outputs": [
        {
          "output_type": "execute_result",
          "data": {
            "text/plain": [
              "(4020, 7)"
            ]
          },
          "metadata": {
            "tags": []
          },
          "execution_count": 13
        }
      ]
    },
    {
      "cell_type": "code",
      "metadata": {
        "id": "O0GnfmcuJujy",
        "colab_type": "code",
        "colab": {}
      },
      "source": [
        "def detectlang(text):\n",
        "    lang=detect(text)\n",
        "    return (lang)"
      ],
      "execution_count": 0,
      "outputs": []
    },
    {
      "cell_type": "code",
      "metadata": {
        "id": "sHoBycVYJzyw",
        "colab_type": "code",
        "colab": {}
      },
      "source": [
        "#!pip install langdetect\n",
        "#!pip install textblob\n",
        "from langdetect import detect\n",
        "l=[]\n",
        "non_classified=[]\n",
        "for i in dataset['content']:\n",
        "    try:\n",
        "        l.append(detect(i))\n",
        "    except:\n",
        "        dataset.drop(dataset[dataset.content==i ].index, inplace=True)\n",
        "\n"
      ],
      "execution_count": 0,
      "outputs": []
    },
    {
      "cell_type": "code",
      "metadata": {
        "id": "PwoLo4oRKK5P",
        "colab_type": "code",
        "colab": {
          "base_uri": "https://localhost:8080/",
          "height": 33
        },
        "outputId": "da8eafce-f8cc-4f35-85a1-363ef650b5af"
      },
      "source": [
        "len(non_classified)\n"
      ],
      "execution_count": 19,
      "outputs": [
        {
          "output_type": "execute_result",
          "data": {
            "text/plain": [
              "0"
            ]
          },
          "metadata": {
            "tags": []
          },
          "execution_count": 19
        }
      ]
    },
    {
      "cell_type": "code",
      "metadata": {
        "id": "Il34JnwiKZeV",
        "colab_type": "code",
        "colab": {}
      },
      "source": [
        "dataset['lang']=l"
      ],
      "execution_count": 0,
      "outputs": []
    },
    {
      "cell_type": "code",
      "metadata": {
        "id": "Grp3uFWUKnz0",
        "colab_type": "code",
        "colab": {
          "base_uri": "https://localhost:8080/",
          "height": 196
        },
        "outputId": "73fab256-920a-4c0b-bf42-66d0cb9b1237"
      },
      "source": [
        "dataset.head()"
      ],
      "execution_count": 45,
      "outputs": [
        {
          "output_type": "execute_result",
          "data": {
            "text/html": [
              "<div>\n",
              "<style scoped>\n",
              "    .dataframe tbody tr th:only-of-type {\n",
              "        vertical-align: middle;\n",
              "    }\n",
              "\n",
              "    .dataframe tbody tr th {\n",
              "        vertical-align: top;\n",
              "    }\n",
              "\n",
              "    .dataframe thead th {\n",
              "        text-align: right;\n",
              "    }\n",
              "</style>\n",
              "<table border=\"1\" class=\"dataframe\">\n",
              "  <thead>\n",
              "    <tr style=\"text-align: right;\">\n",
              "      <th></th>\n",
              "      <th>img_id</th>\n",
              "      <th>fuel</th>\n",
              "      <th>parking</th>\n",
              "      <th>restaurant</th>\n",
              "      <th>transport</th>\n",
              "      <th>content</th>\n",
              "      <th>target</th>\n",
              "      <th>lang</th>\n",
              "    </tr>\n",
              "  </thead>\n",
              "  <tbody>\n",
              "    <tr>\n",
              "      <th>0</th>\n",
              "      <td>4209</td>\n",
              "      <td>0</td>\n",
              "      <td>1</td>\n",
              "      <td>0</td>\n",
              "      <td>0</td>\n",
              "      <td>['1% erria So :', 'ike parcs équipés :', 'fom}...</td>\n",
              "      <td>1.0</td>\n",
              "      <td>en</td>\n",
              "    </tr>\n",
              "    <tr>\n",
              "      <th>1</th>\n",
              "      <td>825</td>\n",
              "      <td>0</td>\n",
              "      <td>0</td>\n",
              "      <td>1</td>\n",
              "      <td>0</td>\n",
              "      <td>['GRS. S.RL', 'STR. CEBROSA 166', '10036 - SET...</td>\n",
              "      <td>2.0</td>\n",
              "      <td>en</td>\n",
              "    </tr>\n",
              "    <tr>\n",
              "      <th>2</th>\n",
              "      <td>2640</td>\n",
              "      <td>0</td>\n",
              "      <td>0</td>\n",
              "      <td>1</td>\n",
              "      <td>0</td>\n",
              "      <td>['EJ ToT) 1', 'HYCHEF RIST COHH.S.p.A.', 'Aero...</td>\n",
              "      <td>2.0</td>\n",
              "      <td>ca</td>\n",
              "    </tr>\n",
              "    <tr>\n",
              "      <th>3</th>\n",
              "      <td>845</td>\n",
              "      <td>0</td>\n",
              "      <td>0</td>\n",
              "      <td>0</td>\n",
              "      <td>1</td>\n",
              "      <td>['Trenord Sri', 'Obbligo di Convalida', 'Valid...</td>\n",
              "      <td>3.0</td>\n",
              "      <td>it</td>\n",
              "    </tr>\n",
              "    <tr>\n",
              "      <th>4</th>\n",
              "      <td>915</td>\n",
              "      <td>0</td>\n",
              "      <td>0</td>\n",
              "      <td>0</td>\n",
              "      <td>1</td>\n",
              "      <td>['Ary', 'INTERURBANO CON', 'VALIDITA” ORAFUA S...</td>\n",
              "      <td>3.0</td>\n",
              "      <td>en</td>\n",
              "    </tr>\n",
              "  </tbody>\n",
              "</table>\n",
              "</div>"
            ],
            "text/plain": [
              "   img_id  fuel  ...  target  lang\n",
              "0    4209     0  ...     1.0    en\n",
              "1     825     0  ...     2.0    en\n",
              "2    2640     0  ...     2.0    ca\n",
              "3     845     0  ...     3.0    it\n",
              "4     915     0  ...     3.0    en\n",
              "\n",
              "[5 rows x 8 columns]"
            ]
          },
          "metadata": {
            "tags": []
          },
          "execution_count": 45
        }
      ]
    },
    {
      "cell_type": "code",
      "metadata": {
        "id": "SZfbkDrgYWAy",
        "colab_type": "code",
        "colab": {}
      },
      "source": [
        ""
      ],
      "execution_count": 0,
      "outputs": []
    },
    {
      "cell_type": "markdown",
      "metadata": {
        "id": "ydxfDrf4Q5Fx",
        "colab_type": "text"
      },
      "source": [
        "# data preprocessing 2.0 ; stop word, tokenozition and semming \n"
      ]
    },
    {
      "cell_type": "markdown",
      "metadata": {
        "id": "2CkIWzkJMwoG",
        "colab_type": "text"
      },
      "source": [
        "###### stopwords\n",
        "\n"
      ]
    },
    {
      "cell_type": "code",
      "metadata": {
        "id": "gfXv2D52LISM",
        "colab_type": "code",
        "colab": {
          "base_uri": "https://localhost:8080/",
          "height": 535
        },
        "outputId": "62059a2b-aa29-49d2-d542-74de59b6c350"
      },
      "source": [
        "dataset.lang.value_counts()"
      ],
      "execution_count": 22,
      "outputs": [
        {
          "output_type": "execute_result",
          "data": {
            "text/plain": [
              "en    1678\n",
              "de     579\n",
              "fr     422\n",
              "it     343\n",
              "pt     339\n",
              "tl     186\n",
              "es     170\n",
              "ca     141\n",
              "ro      30\n",
              "nl      28\n",
              "no      14\n",
              "et      11\n",
              "so      10\n",
              "vi       9\n",
              "pl       6\n",
              "hu       6\n",
              "af       6\n",
              "cy       5\n",
              "sv       5\n",
              "id       5\n",
              "sl       3\n",
              "fi       3\n",
              "tr       2\n",
              "sw       2\n",
              "hr       2\n",
              "sq       1\n",
              "da       1\n",
              "sk       1\n",
              "cs       1\n",
              "lt       1\n",
              "Name: lang, dtype: int64"
            ]
          },
          "metadata": {
            "tags": []
          },
          "execution_count": 22
        }
      ]
    },
    {
      "cell_type": "code",
      "metadata": {
        "id": "igav3J6MLAZI",
        "colab_type": "code",
        "colab": {
          "base_uri": "https://localhost:8080/",
          "height": 87
        },
        "outputId": "3b3f944b-b4b1-407f-e0e9-ed323c30eb55"
      },
      "source": [
        "import nltk\n",
        "nltk.download('stopwords')\n",
        "import re\n",
        "from nltk.stem.porter import PorterStemmer\n",
        "from nltk.corpus import stopwords\n",
        "print (stopwords.fileids())"
      ],
      "execution_count": 23,
      "outputs": [
        {
          "output_type": "stream",
          "text": [
            "[nltk_data] Downloading package stopwords to /root/nltk_data...\n",
            "[nltk_data]   Unzipping corpora/stopwords.zip.\n",
            "['arabic', 'azerbaijani', 'danish', 'dutch', 'english', 'finnish', 'french', 'german', 'greek', 'hungarian', 'indonesian', 'italian', 'kazakh', 'nepali', 'norwegian', 'portuguese', 'romanian', 'russian', 'slovene', 'spanish', 'swedish', 'tajik', 'turkish']\n"
          ],
          "name": "stdout"
        }
      ]
    },
    {
      "cell_type": "code",
      "metadata": {
        "id": "dd8RpLUaLQ8a",
        "colab_type": "code",
        "colab": {}
      },
      "source": [
        "stopswords=[]\n",
        "for i in stopwords.fileids():\n",
        "    stopswords.extend(stopwords.words(i))"
      ],
      "execution_count": 0,
      "outputs": []
    },
    {
      "cell_type": "markdown",
      "metadata": {
        "id": "wCy1QkjYRnz1",
        "colab_type": "text"
      },
      "source": [
        "###### create corpus after stop word, tokenization and stemming\n"
      ]
    },
    {
      "cell_type": "code",
      "metadata": {
        "id": "gzHneQpZNPB1",
        "colab_type": "code",
        "colab": {}
      },
      "source": [
        "corpus = []\n",
        "for i in range(dataset.shape[0]):\n",
        "    recipts = re.sub('[^a-zA-Z]', ' ', list(dataset['content'])[i])\n",
        "    recipts = recipts.lower()\n",
        "    recipts = recipts.split()\n",
        "    ps = PorterStemmer()\n",
        "    recipts = [ps.stem(word) for word in recipts if not word in set(stopswords)]\n",
        "    recipts = ' '.join(recipts)\n",
        "    corpus.append(recipts)\n",
        "\n",
        "\n"
      ],
      "execution_count": 0,
      "outputs": []
    },
    {
      "cell_type": "markdown",
      "metadata": {
        "id": "-WF_RNhfRzWv",
        "colab_type": "text"
      },
      "source": [
        "# Creating and running the Bag of Words models\n",
        "\n",
        "\n",
        "\n",
        "\n"
      ]
    },
    {
      "cell_type": "code",
      "metadata": {
        "id": "blB_5D90N14i",
        "colab_type": "code",
        "colab": {}
      },
      "source": [
        "from sklearn.feature_extraction.text import CountVectorizer\n",
        "cv = CountVectorizer()\n",
        "X = cv.fit_transform(corpus).toarray()\n"
      ],
      "execution_count": 0,
      "outputs": []
    },
    {
      "cell_type": "code",
      "metadata": {
        "id": "ir87bhirSgzn",
        "colab_type": "code",
        "colab": {
          "base_uri": "https://localhost:8080/",
          "height": 33
        },
        "outputId": "1dad8f26-dcab-4d6c-f78d-e9785d5a82df"
      },
      "source": [
        "X.shape"
      ],
      "execution_count": 27,
      "outputs": [
        {
          "output_type": "execute_result",
          "data": {
            "text/plain": [
              "(4010, 27060)"
            ]
          },
          "metadata": {
            "tags": []
          },
          "execution_count": 27
        }
      ]
    },
    {
      "cell_type": "markdown",
      "metadata": {
        "id": "uy3bKtshXMdE",
        "colab_type": "text"
      },
      "source": [
        "## GaussianNB model"
      ]
    },
    {
      "cell_type": "code",
      "metadata": {
        "id": "bkz8f6zSS8P6",
        "colab_type": "code",
        "colab": {}
      },
      "source": [
        ""
      ],
      "execution_count": 0,
      "outputs": []
    },
    {
      "cell_type": "code",
      "metadata": {
        "id": "USbXJ1fIS8TH",
        "colab_type": "code",
        "colab": {}
      },
      "source": [
        "from sklearn.model_selection import train_test_split\n",
        "from sklearn.naive_bayes import GaussianNB\n",
        "from sklearn.metrics import confusion_matrix\n"
      ],
      "execution_count": 0,
      "outputs": []
    },
    {
      "cell_type": "code",
      "metadata": {
        "id": "afBvbU1pSiWO",
        "colab_type": "code",
        "colab": {}
      },
      "source": [
        ""
      ],
      "execution_count": 0,
      "outputs": []
    },
    {
      "cell_type": "code",
      "metadata": {
        "id": "BF83blIxSsAo",
        "colab_type": "code",
        "colab": {
          "base_uri": "https://localhost:8080/",
          "height": 33
        },
        "outputId": "025b4ba2-d49c-4f4e-85ad-1354c4d9f48a"
      },
      "source": [
        "y1=dataset['target']\n",
        "\n",
        "X_train, X_test, y_train, y_test = train_test_split(X, y1, test_size = 0.20, random_state = 0)\n",
        "\n",
        "# Fitting Naive Bayes to the Training set\n",
        "classifier = GaussianNB()\n",
        "classifier.fit(X_train, y_train)\n",
        "\n"
      ],
      "execution_count": 29,
      "outputs": [
        {
          "output_type": "execute_result",
          "data": {
            "text/plain": [
              "GaussianNB(priors=None, var_smoothing=1e-09)"
            ]
          },
          "metadata": {
            "tags": []
          },
          "execution_count": 29
        }
      ]
    },
    {
      "cell_type": "code",
      "metadata": {
        "id": "lW8gio5ZTOUj",
        "colab_type": "code",
        "colab": {}
      },
      "source": [
        "# Predicting the Test set results\n",
        "y_pred = classifier.predict(X_test)\n",
        "\n",
        "# Making the Confusion Matrix\n",
        "cm = confusion_matrix(y_test, y_pred)"
      ],
      "execution_count": 0,
      "outputs": []
    },
    {
      "cell_type": "code",
      "metadata": {
        "id": "wfBckmG3TRb6",
        "colab_type": "code",
        "colab": {
          "base_uri": "https://localhost:8080/",
          "height": 84
        },
        "outputId": "3623aaeb-4be6-424a-dc93-2d624c6fb825"
      },
      "source": [
        "cm"
      ],
      "execution_count": 31,
      "outputs": [
        {
          "output_type": "execute_result",
          "data": {
            "text/plain": [
              "array([[223,  16,  15,   8],\n",
              "       [  9, 100,   7,   6],\n",
              "       [  9,  10, 147,   8],\n",
              "       [ 19,  23,  13, 189]])"
            ]
          },
          "metadata": {
            "tags": []
          },
          "execution_count": 31
        }
      ]
    },
    {
      "cell_type": "code",
      "metadata": {
        "id": "EuXodga3TTF7",
        "colab_type": "code",
        "colab": {
          "base_uri": "https://localhost:8080/",
          "height": 33
        },
        "outputId": "ce49c039-e2d5-4a20-c66c-b2d8a7359a2f"
      },
      "source": [
        "a=0\n",
        "b=0\n",
        "for i in range(len(cm)):\n",
        "    b+=cm[i][i]\n",
        "    for j in range(len(cm[0])):\n",
        "        a+=cm[i][j]\n",
        "b/a"
      ],
      "execution_count": 32,
      "outputs": [
        {
          "output_type": "execute_result",
          "data": {
            "text/plain": [
              "0.8216957605985037"
            ]
          },
          "metadata": {
            "tags": []
          },
          "execution_count": 32
        }
      ]
    },
    {
      "cell_type": "markdown",
      "metadata": {
        "id": "sAM09sGpXWY9",
        "colab_type": "text"
      },
      "source": [
        "##  deep model"
      ]
    },
    {
      "cell_type": "code",
      "metadata": {
        "id": "mYQSiqIxT9nO",
        "colab_type": "code",
        "colab": {}
      },
      "source": [
        "from keras.models import Sequential\n",
        "from keras.layers import Dense, Activation,Dropout\n",
        "\n",
        "model = Sequential()\n",
        "\n",
        "# Input layer and hidden layer \n",
        "model.add(Dense(activation=\"relu\", input_dim=27060, units=700, kernel_initializer=\"uniform\"))\n",
        "model.add(Dropout(0.285))\n",
        "model.add(Dense(activation=\"linear\", input_dim=700, units=4, kernel_initializer=\"uniform\"))\n"
      ],
      "execution_count": 0,
      "outputs": []
    },
    {
      "cell_type": "code",
      "metadata": {
        "id": "uNqVGrqYdiSt",
        "colab_type": "code",
        "colab": {}
      },
      "source": [
        "\n",
        "# Compile the ANN\n",
        "model.compile(optimizer=\"adagrad\", loss=\"mean_squared_error\", metrics=[\"accuracy\"])"
      ],
      "execution_count": 0,
      "outputs": []
    },
    {
      "cell_type": "code",
      "metadata": {
        "id": "PsewGetoXcYv",
        "colab_type": "code",
        "colab": {}
      },
      "source": [
        "y = dataset[['fuel','parking','restaurant','transport']]\n",
        "X_train_deep, X_test_deep, y_train_deep, y_test_deep = train_test_split(X, y, test_size = 0.20, random_state = 0)\n"
      ],
      "execution_count": 0,
      "outputs": []
    },
    {
      "cell_type": "code",
      "metadata": {
        "id": "CquyRUU0WDce",
        "colab_type": "code",
        "colab": {
          "base_uri": "https://localhost:8080/",
          "height": 1000
        },
        "outputId": "33e8b899-7ac8-4f99-eee2-b8755cc20be5"
      },
      "source": [
        "model.fit(X_train_deep, y_train_deep, epochs=100, batch_size=128)"
      ],
      "execution_count": 41,
      "outputs": [
        {
          "output_type": "stream",
          "text": [
            "WARNING:tensorflow:From /usr/local/lib/python3.6/dist-packages/keras/backend/tensorflow_backend.py:1033: The name tf.assign_add is deprecated. Please use tf.compat.v1.assign_add instead.\n",
            "\n",
            "WARNING:tensorflow:From /usr/local/lib/python3.6/dist-packages/keras/backend/tensorflow_backend.py:1020: The name tf.assign is deprecated. Please use tf.compat.v1.assign instead.\n",
            "\n",
            "WARNING:tensorflow:From /usr/local/lib/python3.6/dist-packages/keras/backend/tensorflow_backend.py:3005: The name tf.Session is deprecated. Please use tf.compat.v1.Session instead.\n",
            "\n",
            "Epoch 1/100\n",
            "WARNING:tensorflow:From /usr/local/lib/python3.6/dist-packages/keras/backend/tensorflow_backend.py:190: The name tf.get_default_session is deprecated. Please use tf.compat.v1.get_default_session instead.\n",
            "\n",
            "WARNING:tensorflow:From /usr/local/lib/python3.6/dist-packages/keras/backend/tensorflow_backend.py:197: The name tf.ConfigProto is deprecated. Please use tf.compat.v1.ConfigProto instead.\n",
            "\n",
            "WARNING:tensorflow:From /usr/local/lib/python3.6/dist-packages/keras/backend/tensorflow_backend.py:207: The name tf.global_variables is deprecated. Please use tf.compat.v1.global_variables instead.\n",
            "\n",
            "WARNING:tensorflow:From /usr/local/lib/python3.6/dist-packages/keras/backend/tensorflow_backend.py:216: The name tf.is_variable_initialized is deprecated. Please use tf.compat.v1.is_variable_initialized instead.\n",
            "\n",
            "WARNING:tensorflow:From /usr/local/lib/python3.6/dist-packages/keras/backend/tensorflow_backend.py:223: The name tf.variables_initializer is deprecated. Please use tf.compat.v1.variables_initializer instead.\n",
            "\n",
            "3208/3208 [==============================] - 8s 3ms/step - loss: 0.1258 - acc: 0.7696\n",
            "Epoch 2/100\n",
            "3208/3208 [==============================] - 7s 2ms/step - loss: 0.0636 - acc: 0.9408\n",
            "Epoch 3/100\n",
            "3208/3208 [==============================] - 7s 2ms/step - loss: 0.0322 - acc: 0.9610\n",
            "Epoch 4/100\n",
            "3208/3208 [==============================] - 7s 2ms/step - loss: 0.0247 - acc: 0.9660\n",
            "Epoch 5/100\n",
            "3208/3208 [==============================] - 7s 2ms/step - loss: 0.0221 - acc: 0.9651\n",
            "Epoch 6/100\n",
            "3208/3208 [==============================] - 7s 2ms/step - loss: 0.0202 - acc: 0.9670\n",
            "Epoch 7/100\n",
            "3208/3208 [==============================] - 7s 2ms/step - loss: 0.0188 - acc: 0.9685\n",
            "Epoch 8/100\n",
            "3208/3208 [==============================] - 7s 2ms/step - loss: 0.0182 - acc: 0.9691\n",
            "Epoch 9/100\n",
            "3208/3208 [==============================] - 7s 2ms/step - loss: 0.0173 - acc: 0.9673\n",
            "Epoch 10/100\n",
            "3208/3208 [==============================] - 7s 2ms/step - loss: 0.0166 - acc: 0.9685\n",
            "Epoch 11/100\n",
            "3208/3208 [==============================] - 7s 2ms/step - loss: 0.0160 - acc: 0.9663\n",
            "Epoch 12/100\n",
            "3208/3208 [==============================] - 7s 2ms/step - loss: 0.0156 - acc: 0.9670\n",
            "Epoch 13/100\n",
            "3208/3208 [==============================] - 7s 2ms/step - loss: 0.0152 - acc: 0.9679\n",
            "Epoch 14/100\n",
            "3208/3208 [==============================] - 7s 2ms/step - loss: 0.0149 - acc: 0.9657\n",
            "Epoch 15/100\n",
            "3208/3208 [==============================] - 7s 2ms/step - loss: 0.0149 - acc: 0.9685\n",
            "Epoch 16/100\n",
            "3208/3208 [==============================] - 7s 2ms/step - loss: 0.0146 - acc: 0.9673\n",
            "Epoch 17/100\n",
            "3208/3208 [==============================] - 7s 2ms/step - loss: 0.0142 - acc: 0.9648\n",
            "Epoch 18/100\n",
            "3208/3208 [==============================] - 7s 2ms/step - loss: 0.0141 - acc: 0.9670\n",
            "Epoch 19/100\n",
            "3208/3208 [==============================] - 7s 2ms/step - loss: 0.0141 - acc: 0.9688\n",
            "Epoch 20/100\n",
            "3208/3208 [==============================] - 7s 2ms/step - loss: 0.0137 - acc: 0.9685\n",
            "Epoch 21/100\n",
            "3208/3208 [==============================] - 7s 2ms/step - loss: 0.0137 - acc: 0.9688\n",
            "Epoch 22/100\n",
            "3208/3208 [==============================] - 7s 2ms/step - loss: 0.0133 - acc: 0.9670\n",
            "Epoch 23/100\n",
            "3208/3208 [==============================] - 7s 2ms/step - loss: 0.0133 - acc: 0.9716\n",
            "Epoch 24/100\n",
            "3208/3208 [==============================] - 7s 2ms/step - loss: 0.0132 - acc: 0.9685\n",
            "Epoch 25/100\n",
            "3208/3208 [==============================] - 7s 2ms/step - loss: 0.0132 - acc: 0.9679\n",
            "Epoch 26/100\n",
            "3208/3208 [==============================] - 7s 2ms/step - loss: 0.0129 - acc: 0.9663\n",
            "Epoch 27/100\n",
            "3208/3208 [==============================] - 7s 2ms/step - loss: 0.0129 - acc: 0.9707\n",
            "Epoch 28/100\n",
            "3208/3208 [==============================] - 7s 2ms/step - loss: 0.0129 - acc: 0.9707\n",
            "Epoch 29/100\n",
            "3208/3208 [==============================] - 7s 2ms/step - loss: 0.0129 - acc: 0.9676\n",
            "Epoch 30/100\n",
            "3208/3208 [==============================] - 7s 2ms/step - loss: 0.0127 - acc: 0.9648\n",
            "Epoch 31/100\n",
            "3208/3208 [==============================] - 7s 2ms/step - loss: 0.0125 - acc: 0.9688\n",
            "Epoch 32/100\n",
            "3208/3208 [==============================] - 7s 2ms/step - loss: 0.0126 - acc: 0.9691\n",
            "Epoch 33/100\n",
            "3208/3208 [==============================] - 7s 2ms/step - loss: 0.0124 - acc: 0.9682\n",
            "Epoch 34/100\n",
            "3208/3208 [==============================] - 7s 2ms/step - loss: 0.0124 - acc: 0.9682\n",
            "Epoch 35/100\n",
            "3208/3208 [==============================] - 7s 2ms/step - loss: 0.0124 - acc: 0.9676\n",
            "Epoch 36/100\n",
            "3208/3208 [==============================] - 7s 2ms/step - loss: 0.0122 - acc: 0.9682\n",
            "Epoch 37/100\n",
            "3208/3208 [==============================] - 7s 2ms/step - loss: 0.0122 - acc: 0.9685\n",
            "Epoch 38/100\n",
            "3208/3208 [==============================] - 7s 2ms/step - loss: 0.0123 - acc: 0.9688\n",
            "Epoch 39/100\n",
            "3208/3208 [==============================] - 7s 2ms/step - loss: 0.0122 - acc: 0.9666\n",
            "Epoch 40/100\n",
            "3208/3208 [==============================] - 7s 2ms/step - loss: 0.0121 - acc: 0.9657\n",
            "Epoch 41/100\n",
            "3208/3208 [==============================] - 7s 2ms/step - loss: 0.0121 - acc: 0.9682\n",
            "Epoch 42/100\n",
            "3208/3208 [==============================] - 7s 2ms/step - loss: 0.0119 - acc: 0.9698\n",
            "Epoch 43/100\n",
            "3208/3208 [==============================] - 7s 2ms/step - loss: 0.0118 - acc: 0.9698\n",
            "Epoch 44/100\n",
            "3208/3208 [==============================] - 7s 2ms/step - loss: 0.0120 - acc: 0.9682\n",
            "Epoch 45/100\n",
            "3208/3208 [==============================] - 7s 2ms/step - loss: 0.0119 - acc: 0.9691\n",
            "Epoch 46/100\n",
            "3208/3208 [==============================] - 7s 2ms/step - loss: 0.0119 - acc: 0.9660\n",
            "Epoch 47/100\n",
            "3208/3208 [==============================] - 7s 2ms/step - loss: 0.0118 - acc: 0.9691\n",
            "Epoch 48/100\n",
            "3208/3208 [==============================] - 7s 2ms/step - loss: 0.0118 - acc: 0.9685\n",
            "Epoch 49/100\n",
            "3208/3208 [==============================] - 7s 2ms/step - loss: 0.0117 - acc: 0.9701\n",
            "Epoch 50/100\n",
            "3208/3208 [==============================] - 7s 2ms/step - loss: 0.0117 - acc: 0.9707\n",
            "Epoch 51/100\n",
            "3208/3208 [==============================] - 7s 2ms/step - loss: 0.0117 - acc: 0.9673\n",
            "Epoch 52/100\n",
            "3208/3208 [==============================] - 7s 2ms/step - loss: 0.0117 - acc: 0.9654\n",
            "Epoch 53/100\n",
            "3208/3208 [==============================] - 7s 2ms/step - loss: 0.0117 - acc: 0.9673\n",
            "Epoch 54/100\n",
            "3208/3208 [==============================] - 7s 2ms/step - loss: 0.0117 - acc: 0.9670\n",
            "Epoch 55/100\n",
            "3208/3208 [==============================] - 7s 2ms/step - loss: 0.0116 - acc: 0.9698\n",
            "Epoch 56/100\n",
            "3208/3208 [==============================] - 7s 2ms/step - loss: 0.0115 - acc: 0.9719\n",
            "Epoch 57/100\n",
            "3208/3208 [==============================] - 7s 2ms/step - loss: 0.0115 - acc: 0.9673\n",
            "Epoch 58/100\n",
            "3208/3208 [==============================] - 7s 2ms/step - loss: 0.0114 - acc: 0.9691\n",
            "Epoch 59/100\n",
            "3208/3208 [==============================] - 7s 2ms/step - loss: 0.0115 - acc: 0.9695\n",
            "Epoch 60/100\n",
            "3208/3208 [==============================] - 7s 2ms/step - loss: 0.0116 - acc: 0.9682\n",
            "Epoch 61/100\n",
            "3208/3208 [==============================] - 7s 2ms/step - loss: 0.0114 - acc: 0.9682\n",
            "Epoch 62/100\n",
            "3208/3208 [==============================] - 7s 2ms/step - loss: 0.0115 - acc: 0.9685\n",
            "Epoch 63/100\n",
            "3208/3208 [==============================] - 7s 2ms/step - loss: 0.0114 - acc: 0.9698\n",
            "Epoch 64/100\n",
            "3208/3208 [==============================] - 7s 2ms/step - loss: 0.0114 - acc: 0.9682\n",
            "Epoch 65/100\n",
            "3208/3208 [==============================] - 7s 2ms/step - loss: 0.0114 - acc: 0.9688\n",
            "Epoch 66/100\n",
            "3208/3208 [==============================] - 7s 2ms/step - loss: 0.0112 - acc: 0.9701\n",
            "Epoch 67/100\n",
            "3208/3208 [==============================] - 7s 2ms/step - loss: 0.0112 - acc: 0.9648\n",
            "Epoch 68/100\n",
            "3208/3208 [==============================] - 7s 2ms/step - loss: 0.0113 - acc: 0.9679\n",
            "Epoch 69/100\n",
            "3208/3208 [==============================] - 7s 2ms/step - loss: 0.0113 - acc: 0.9682\n",
            "Epoch 70/100\n",
            "3208/3208 [==============================] - 7s 2ms/step - loss: 0.0112 - acc: 0.9682\n",
            "Epoch 71/100\n",
            "3208/3208 [==============================] - 7s 2ms/step - loss: 0.0112 - acc: 0.9676\n",
            "Epoch 72/100\n",
            "3208/3208 [==============================] - 7s 2ms/step - loss: 0.0113 - acc: 0.9688\n",
            "Epoch 73/100\n",
            "3208/3208 [==============================] - 7s 2ms/step - loss: 0.0112 - acc: 0.9685\n",
            "Epoch 74/100\n",
            "3208/3208 [==============================] - 7s 2ms/step - loss: 0.0112 - acc: 0.9682\n",
            "Epoch 75/100\n",
            "3208/3208 [==============================] - 7s 2ms/step - loss: 0.0112 - acc: 0.9691\n",
            "Epoch 76/100\n",
            "3208/3208 [==============================] - 7s 2ms/step - loss: 0.0113 - acc: 0.9682\n",
            "Epoch 77/100\n",
            "3208/3208 [==============================] - 7s 2ms/step - loss: 0.0113 - acc: 0.9679\n",
            "Epoch 78/100\n",
            "3208/3208 [==============================] - 7s 2ms/step - loss: 0.0112 - acc: 0.9701\n",
            "Epoch 79/100\n",
            "3208/3208 [==============================] - 7s 2ms/step - loss: 0.0112 - acc: 0.9695\n",
            "Epoch 80/100\n",
            "3208/3208 [==============================] - 7s 2ms/step - loss: 0.0111 - acc: 0.9695\n",
            "Epoch 81/100\n",
            "3208/3208 [==============================] - 7s 2ms/step - loss: 0.0111 - acc: 0.9676\n",
            "Epoch 82/100\n",
            "3208/3208 [==============================] - 7s 2ms/step - loss: 0.0110 - acc: 0.9676\n",
            "Epoch 83/100\n",
            "3208/3208 [==============================] - 7s 2ms/step - loss: 0.0111 - acc: 0.9688\n",
            "Epoch 84/100\n",
            "3208/3208 [==============================] - 7s 2ms/step - loss: 0.0109 - acc: 0.9710\n",
            "Epoch 85/100\n",
            "3208/3208 [==============================] - 7s 2ms/step - loss: 0.0111 - acc: 0.9666\n",
            "Epoch 86/100\n",
            "3208/3208 [==============================] - 7s 2ms/step - loss: 0.0111 - acc: 0.9679\n",
            "Epoch 87/100\n",
            "3208/3208 [==============================] - 7s 2ms/step - loss: 0.0111 - acc: 0.9682\n",
            "Epoch 88/100\n",
            "3208/3208 [==============================] - 7s 2ms/step - loss: 0.0111 - acc: 0.9676\n",
            "Epoch 89/100\n",
            "3208/3208 [==============================] - 7s 2ms/step - loss: 0.0110 - acc: 0.9704\n",
            "Epoch 90/100\n",
            "3208/3208 [==============================] - 7s 2ms/step - loss: 0.0111 - acc: 0.9673\n",
            "Epoch 91/100\n",
            "3208/3208 [==============================] - 7s 2ms/step - loss: 0.0110 - acc: 0.9676\n",
            "Epoch 92/100\n",
            "3208/3208 [==============================] - 7s 2ms/step - loss: 0.0110 - acc: 0.9685\n",
            "Epoch 93/100\n",
            "3208/3208 [==============================] - 7s 2ms/step - loss: 0.0110 - acc: 0.9688\n",
            "Epoch 94/100\n",
            "3208/3208 [==============================] - 7s 2ms/step - loss: 0.0110 - acc: 0.9698\n",
            "Epoch 95/100\n",
            "3208/3208 [==============================] - 7s 2ms/step - loss: 0.0110 - acc: 0.9698\n",
            "Epoch 96/100\n",
            "3208/3208 [==============================] - 7s 2ms/step - loss: 0.0110 - acc: 0.9670\n",
            "Epoch 97/100\n",
            "3208/3208 [==============================] - 7s 2ms/step - loss: 0.0110 - acc: 0.9632\n",
            "Epoch 98/100\n",
            "3208/3208 [==============================] - 7s 2ms/step - loss: 0.0110 - acc: 0.9663\n",
            "Epoch 99/100\n",
            "3208/3208 [==============================] - 7s 2ms/step - loss: 0.0109 - acc: 0.9716\n",
            "Epoch 100/100\n",
            "3208/3208 [==============================] - 7s 2ms/step - loss: 0.0109 - acc: 0.9707\n"
          ],
          "name": "stdout"
        },
        {
          "output_type": "execute_result",
          "data": {
            "text/plain": [
              "<keras.callbacks.History at 0x7f9c3b248550>"
            ]
          },
          "metadata": {
            "tags": []
          },
          "execution_count": 41
        }
      ]
    },
    {
      "cell_type": "code",
      "metadata": {
        "id": "99lF5WacWej-",
        "colab_type": "code",
        "colab": {
          "base_uri": "https://localhost:8080/",
          "height": 33
        },
        "outputId": "856ef063-69a8-4379-c744-f1a36dfc6400"
      },
      "source": [
        "score = model.evaluate(X_test_deep, y_test_deep, batch_size=128)"
      ],
      "execution_count": 46,
      "outputs": [
        {
          "output_type": "stream",
          "text": [
            "802/802 [==============================] - 1s 626us/step\n"
          ],
          "name": "stdout"
        }
      ]
    },
    {
      "cell_type": "code",
      "metadata": {
        "id": "9Jcc628odD4i",
        "colab_type": "code",
        "colab": {
          "base_uri": "https://localhost:8080/",
          "height": 33
        },
        "outputId": "2ec66dbc-0412-4d29-827b-4ec45d2f5e03"
      },
      "source": [
        "print(score)"
      ],
      "execution_count": 47,
      "outputs": [
        {
          "output_type": "stream",
          "text": [
            "[0.07247524665775441, 0.8528678295321]\n"
          ],
          "name": "stdout"
        }
      ]
    },
    {
      "cell_type": "code",
      "metadata": {
        "id": "uq215s9jdJ7H",
        "colab_type": "code",
        "colab": {}
      },
      "source": [
        "pred=model.predict(X_test_deep)\n"
      ],
      "execution_count": 0,
      "outputs": []
    },
    {
      "cell_type": "code",
      "metadata": {
        "id": "Thv-mV47dVFm",
        "colab_type": "code",
        "colab": {}
      },
      "source": [
        ""
      ],
      "execution_count": 0,
      "outputs": []
    }
  ]
}